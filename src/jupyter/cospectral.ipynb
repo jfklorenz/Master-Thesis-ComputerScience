{
 "cells": [
  {
   "cell_type": "markdown",
   "id": "06d0d1d4",
   "metadata": {},
   "source": [
    "# Cospectral\n",
    "Graphs that share the same *graph spectrum*, i.e. have the same *graph eigenvalues*."
   ]
  },
  {
   "cell_type": "markdown",
   "id": "e3646880",
   "metadata": {},
   "source": [
    "## Imports"
   ]
  },
  {
   "cell_type": "code",
   "execution_count": 1,
   "id": "1d318e3e",
   "metadata": {},
   "outputs": [],
   "source": [
    "import random\n",
    "import numpy as np\n",
    "import networkx as nx"
   ]
  },
  {
   "cell_type": "markdown",
   "id": "190fd1be",
   "metadata": {},
   "source": [
    "## Method"
   ]
  },
  {
   "cell_type": "code",
   "execution_count": 33,
   "id": "38c7d822",
   "metadata": {},
   "outputs": [],
   "source": [
    "# Main Function\n",
    "def areCospectral(A, B):\n",
    "    \"\"\"Input: 2 quadratic matrices of size n. Output: True/False depending if A and B are cospectral.\"\"\"\n",
    "\n",
    "    A_evals, _ = np.linalg.eigh(A) # eigh assumes symmetric matrix and sorts the array vs eig (eig => need sort)\n",
    "    B_evals, _ = np.linalg.eigh(B) # B_evecs\n",
    "\n",
    "    cospectral = validateEigenvalues(A_evals, B_evals)\n",
    "\n",
    "    if cospectral:\n",
    "        return True\n",
    "    else:\n",
    "        return False\n",
    "\n",
    "# Help Function\n",
    "def validateEigenvalues(A_evals, B_evals, err = 2 ** (-20)):\n",
    "    \"\"\"Input: 2 vectors containing the eigenvalues of 2 matrices. \n",
    "    Output: True if the difference in all values is smaller then a given error.\"\"\"\n",
    "\n",
    "    for i in range(len(A_evals)):\n",
    "        if A_evals[i] - B_evals[i] > err:\n",
    "            return False\n",
    "\n",
    "    return True"
   ]
  },
  {
   "cell_type": "markdown",
   "id": "13a8a4a1",
   "metadata": {},
   "source": [
    "## Automated Test"
   ]
  },
  {
   "cell_type": "code",
   "execution_count": 34,
   "id": "c58dccc0",
   "metadata": {},
   "outputs": [
    {
     "name": "stdout",
     "output_type": "stream",
     "text": [
      "True\n"
     ]
    }
   ],
   "source": [
    "G = nx.binomial_graph(50, random.random())\n",
    "H = nx.spectral_graph_forge(G, 1)\n",
    "\n",
    "print(areCospectral(nx.adjacency_matrix(G).todense(), nx.adjacency_matrix(H).todense()))"
   ]
  },
  {
   "cell_type": "markdown",
   "id": "4b8b52ec",
   "metadata": {},
   "source": [
    "## Manual Test\n",
    "Lovász Meets Weisfeiler, XX:10, figure 2."
   ]
  },
  {
   "cell_type": "code",
   "execution_count": 36,
   "id": "05c6fe5a",
   "metadata": {},
   "outputs": [
    {
     "name": "stdout",
     "output_type": "stream",
     "text": [
      "True\n"
     ]
    }
   ],
   "source": [
    "A = [\n",
    "    [0,0,1,0,1],\n",
    "    [0,0,0,0,0],\n",
    "    [1,0,0,1,0],\n",
    "    [0,0,1,0,1],\n",
    "    [1,0,0,1,0]\n",
    "]\n",
    "\n",
    "B = [\n",
    "    [0,1,0,0,0],\n",
    "    [1,0,1,1,1],\n",
    "    [0,1,0,0,0],\n",
    "    [0,1,0,0,0],\n",
    "    [0,1,0,0,0]\n",
    "]\n",
    "\n",
    "print(areCospectral(A, B))"
   ]
  }
 ],
 "metadata": {
  "kernelspec": {
   "display_name": "Python 3 (ipykernel)",
   "language": "python",
   "name": "python3"
  },
  "language_info": {
   "codemirror_mode": {
    "name": "ipython",
    "version": 3
   },
   "file_extension": ".py",
   "mimetype": "text/x-python",
   "name": "python",
   "nbconvert_exporter": "python",
   "pygments_lexer": "ipython3",
   "version": "3.8.12"
  }
 },
 "nbformat": 4,
 "nbformat_minor": 5
}
